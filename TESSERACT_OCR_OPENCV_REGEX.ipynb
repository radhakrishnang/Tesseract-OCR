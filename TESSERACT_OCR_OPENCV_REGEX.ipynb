{
 "cells": [
  {
   "cell_type": "code",
   "execution_count": 19,
   "metadata": {},
   "outputs": [],
   "source": [
    "import cv2\n",
    "import glob\n",
    "import os\n",
    "import re\n",
    "import numpy as np\n",
    "import pytesseract\n",
    "from pytesseract import Output"
   ]
  },
  {
   "cell_type": "code",
   "execution_count": 20,
   "metadata": {},
   "outputs": [],
   "source": [
    "pytesseract.pytesseract.tesseract_cmd =  r'C:\\Program Files\\Tesseract-OCR\\tesseract.exe'"
   ]
  },
  {
   "cell_type": "code",
   "execution_count": 21,
   "metadata": {},
   "outputs": [],
   "source": [
    "input_folder = \"C:\\\\Users\\\\username\\\\Documents\\\\INPUT\"\n",
    "output_folder = \"C:\\\\Users\\\\username\\\\Documents\\\\OUTPUT\"\n",
    "preprocess_folder = \"C:\\\\Users\\\\username\\\\Documents\\\\OUTPUT\\\\preprocess\""
   ]
  },
  {
   "cell_type": "code",
   "execution_count": 22,
   "metadata": {},
   "outputs": [],
   "source": [
    "def preprocess(inputs,output):\n",
    "    image = cv2.imread(inputs)\n",
    "    bi = cv2.bilateralFilter(image,9,75,75)\n",
    "    gray = cv2.cvtColor(bi, cv2.COLOR_BGR2GRAY)\n",
    "    gray = cv2.medianBlur(gray, 3)\n",
    "    custom_config = r'--oem 3 --psm 6 -c tessedit_char_whitelist= ABCDEFGHIJKLMNOPQRSTUVWXYZ1234567890< ./'\n",
    "    psprt_img_text = pytesseract.image_to_string(gray, config=custom_config)\n",
    "    text_file = open(output, \"w\")\n",
    "    n = text_file.write(psprt_img_text)\n",
    "    text_file.close()   "
   ]
  },
  {
   "cell_type": "code",
   "execution_count": 23,
   "metadata": {},
   "outputs": [],
   "source": [
    "def regex(inputs,output):\n",
    "    with open(inputs) as ocr:\n",
    "        Text = ocr.readlines()\n",
    "    \n",
    "    CleanText = []\n",
    "    CleanText1 = []\n",
    "\n",
    "    for line in Text:\n",
    "        clean = re.sub('[a-z]', ' ', line)\n",
    "        clean1 = re.sub('[:punct:]', ' ', clean)\n",
    "        names = re.sub(r'[-/\\(-)+.^:*:=¢,’“|—#%¥;~\"!‘]', '', clean1)\n",
    "        CleanText.append(names)\n",
    "\n",
    "    for line in CleanText:\n",
    "        words = []\n",
    "        words1 = []\n",
    "        words = line.split()\n",
    "        for word in words:\n",
    "            if (len(word)>1):\n",
    "                words1.append(word)\n",
    "        names1 = ' '.join(words1)\n",
    "        CleanText1.append(names1)\n",
    "        CleanText1.append('\\n')\n",
    "    \n",
    "    text_file = open(output, \"w\")\n",
    "    for line in CleanText1:\n",
    "        text_file.write(line)\n",
    "    text_file.close()"
   ]
  },
  {
   "cell_type": "code",
   "execution_count": 24,
   "metadata": {},
   "outputs": [
    {
     "name": "stdout",
     "output_type": "stream",
     "text": [
      "C:\\Users\\Pro\\Documents\\OUTPUT\\uk1.txt\n"
     ]
    }
   ],
   "source": [
    "for file in glob.glob(\"{}\\\\*.*\".format(input_folder)):\n",
    "    filename, extension = file.split(os.sep)[-1].split('.')\n",
    "    extension = \"txt\"\n",
    "    output_file = '{}\\\\{}.{}'.format(output_folder,filename, extension)\n",
    "    im =os.path.join(input_folder,file)\n",
    "    preprocess(im,output_folder+'\\\\preprocess\\\\'+filename+'.'+extension)\n",
    "    regex(output_folder+'\\\\preprocess\\\\'+filename+'.'+extension,output_file)\n",
    "    print(output_file)"
   ]
  },
  {
   "cell_type": "code",
   "execution_count": null,
   "metadata": {},
   "outputs": [],
   "source": []
  },
  {
   "cell_type": "code",
   "execution_count": null,
   "metadata": {},
   "outputs": [],
   "source": []
  },
  {
   "cell_type": "code",
   "execution_count": null,
   "metadata": {},
   "outputs": [],
   "source": []
  }
 ],
 "metadata": {
  "kernelspec": {
   "display_name": "Python 3",
   "language": "python",
   "name": "python3"
  },
  "language_info": {
   "codemirror_mode": {
    "name": "ipython",
    "version": 3
   },
   "file_extension": ".py",
   "mimetype": "text/x-python",
   "name": "python",
   "nbconvert_exporter": "python",
   "pygments_lexer": "ipython3",
   "version": "3.8.3"
  }
 },
 "nbformat": 4,
 "nbformat_minor": 4
}
